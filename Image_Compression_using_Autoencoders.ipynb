{
  "nbformat": 4,
  "nbformat_minor": 0,
  "metadata": {
    "colab": {
      "name": "Image Compression using Autoencoders.ipynb",
      "provenance": [],
      "machine_shape": "hm"
    },
    "kernelspec": {
      "name": "python3",
      "display_name": "Python 3"
    },
    "language_info": {
      "name": "python"
    },
    "accelerator": "GPU"
  },
  "cells": [
    {
      "cell_type": "markdown",
      "metadata": {
        "id": "1Zb1YO4l3-Rw"
      },
      "source": [
        "**Title**: Image Compression using Autoencoders <br>\n",
        "**Author**: [Sayan Nath](https://twitter.com/sayannath2350) <br>\n",
        "**Date created**: 2021/03/25 <br>\n",
        "**Last modified**: 2021/03/25 <br>\n",
        "**Description**: How to compress images using autoencoders. <br>"
      ]
    },
    {
      "cell_type": "markdown",
      "metadata": {
        "id": "q92go9NN40le"
      },
      "source": [
        "## Introduction\n",
        "\n",
        "Autoencoders are a deep learning model for transforming data from a high-dimensional space to a lower-dimensional space.  The more accurate the autoencoder, the closer the generated data is to the original. This example will demonstrate how to do image compression using Autoencoders with the help of MNIST dataset."
      ]
    },
    {
      "cell_type": "markdown",
      "metadata": {
        "id": "2EdpAaNEOSaM"
      },
      "source": [
        "## Setup"
      ]
    },
    {
      "cell_type": "code",
      "metadata": {
        "id": "op-Jbjc2ywEj"
      },
      "source": [
        "import numpy as np\n",
        "import pandas as pd\n",
        "import tensorflow as tf\n",
        "import matplotlib.pyplot as plt \n",
        "\n",
        "from tensorflow.keras import layers\n",
        "from tensorflow.keras.datasets import mnist\n",
        "from tensorflow.keras.models import Model\n",
        "from tensorflow.keras.optimizers import Adam\n",
        "\n",
        "np.random.seed(42)\n",
        "tf.random.set_seed(42)"
      ],
      "execution_count": 1,
      "outputs": []
    },
    {
      "cell_type": "markdown",
      "metadata": {
        "id": "FHgYK_jcO_lj"
      },
      "source": [
        "## Prepare the dataset\n",
        "\n",
        "In this example, we will be using the MNIST dataset. But this same recipe can be used for other classification datasets as well."
      ]
    },
    {
      "cell_type": "code",
      "metadata": {
        "id": "MNFw5-uKQi-c"
      },
      "source": [
        "(x_train_orig, y_train), (x_test_orig, y_test) = mnist.load_data()\n",
        "\n",
        "x_train_orig = x_train_orig.astype(\"float32\") / 255.0\n",
        "x_test_orig = x_test_orig.astype(\"float32\") / 255.0\n",
        "\n",
        "x_train = np.reshape(x_train_orig, newshape=(x_train_orig.shape[0], np.prod(x_train_orig.shape[1:])))\n",
        "x_test = np.reshape(x_test_orig, newshape=(x_test_orig.shape[0], np.prod(x_test_orig.shape[1:])))"
      ],
      "execution_count": 17,
      "outputs": []
    },
    {
      "cell_type": "code",
      "metadata": {
        "colab": {
          "base_uri": "https://localhost:8080/"
        },
        "id": "RC8tujmdQtjF",
        "outputId": "dc54bae5-7d5f-4dd6-b6f2-e775d0363325"
      },
      "source": [
        "print(x_train.shape)\n",
        "print(y_train.shape)\n",
        "print(x_test.shape)\n",
        "print(y_test.shape)"
      ],
      "execution_count": 18,
      "outputs": [
        {
          "output_type": "stream",
          "text": [
            "(60000, 784)\n",
            "(60000,)\n",
            "(10000, 784)\n",
            "(10000,)\n"
          ],
          "name": "stdout"
        }
      ]
    },
    {
      "cell_type": "markdown",
      "metadata": {
        "id": "0_4Q6VW0SwjK"
      },
      "source": [
        "## Define hyperparameters"
      ]
    },
    {
      "cell_type": "code",
      "metadata": {
        "id": "jQk5tWRnRxZj"
      },
      "source": [
        "AUTO = tf.data.AUTOTUNE\n",
        "INPUT_SHAPE=784\n",
        "BATCH_SIZE = 256\n",
        "EPOCHS = 50"
      ],
      "execution_count": 19,
      "outputs": []
    },
    {
      "cell_type": "markdown",
      "metadata": {
        "id": "zOssDrltT9CJ"
      },
      "source": [
        "## Build the Encoder"
      ]
    },
    {
      "cell_type": "code",
      "metadata": {
        "id": "8-84cpM2Wzwy"
      },
      "source": [
        "def get_encoder_model():\n",
        "    x = layers.Input(shape=(INPUT_SHAPE), name=\"encoder_input\")\n",
        "\n",
        "    encoder_dense_layer1 = layers.Dense(units=300, name=\"encoder_dense_1\")(x)\n",
        "    encoder_activ_layer1 = layers.LeakyReLU(name=\"encoder_leakyrelu_1\")(encoder_dense_layer1)\n",
        "\n",
        "    encoder_dense_layer2 = layers.Dense(units=2, name=\"encoder_dense_2\")(encoder_activ_layer1)\n",
        "    encoder_output = layers.LeakyReLU(name=\"encoder_output\")(encoder_dense_layer2)\n",
        "\n",
        "    encoder = Model(x, encoder_output, name=\"encoder_model\")   \n",
        "    return encoder "
      ],
      "execution_count": 20,
      "outputs": []
    },
    {
      "cell_type": "code",
      "metadata": {
        "colab": {
          "base_uri": "https://localhost:8080/"
        },
        "id": "Jt8FumF-Xd7b",
        "outputId": "472336dc-208f-44c6-b6a5-82f5955581f3"
      },
      "source": [
        "encoder = get_encoder_model()\n",
        "encoder.summary()"
      ],
      "execution_count": 21,
      "outputs": [
        {
          "output_type": "stream",
          "text": [
            "Model: \"encoder_model\"\n",
            "_________________________________________________________________\n",
            "Layer (type)                 Output Shape              Param #   \n",
            "=================================================================\n",
            "encoder_input (InputLayer)   [(None, 784)]             0         \n",
            "_________________________________________________________________\n",
            "encoder_dense_1 (Dense)      (None, 300)               235500    \n",
            "_________________________________________________________________\n",
            "encoder_leakyrelu_1 (LeakyRe (None, 300)               0         \n",
            "_________________________________________________________________\n",
            "encoder_dense_2 (Dense)      (None, 2)                 602       \n",
            "_________________________________________________________________\n",
            "encoder_output (LeakyReLU)   (None, 2)                 0         \n",
            "=================================================================\n",
            "Total params: 236,102\n",
            "Trainable params: 236,102\n",
            "Non-trainable params: 0\n",
            "_________________________________________________________________\n"
          ],
          "name": "stdout"
        }
      ]
    },
    {
      "cell_type": "markdown",
      "metadata": {
        "id": "H8Y-X9AFdbCK"
      },
      "source": [
        "## Build the Decoder"
      ]
    },
    {
      "cell_type": "code",
      "metadata": {
        "id": "LypED1rSW939"
      },
      "source": [
        "def get_decoder_model():\n",
        "    decoder_input = layers.Input(shape=(2), name=\"decoder_input\")\n",
        "\n",
        "    decoder_dense_layer1 = layers.Dense(units=300, name=\"decoder_dense_1\")(decoder_input)\n",
        "    decoder_activ_layer1 = layers.LeakyReLU(name=\"decoder_leakyrelu_1\")(decoder_dense_layer1)\n",
        "\n",
        "    decoder_dense_layer2 = layers.Dense(units=INPUT_SHAPE, name=\"decoder_dense_2\")(decoder_activ_layer1)\n",
        "    decoder_output = layers.LeakyReLU(name=\"decoder_output\")(decoder_dense_layer2)\n",
        "\n",
        "    decoder = Model(decoder_input, decoder_output, name=\"decoder_model\")\n",
        "    return decoder"
      ],
      "execution_count": 22,
      "outputs": []
    },
    {
      "cell_type": "code",
      "metadata": {
        "colab": {
          "base_uri": "https://localhost:8080/"
        },
        "id": "zdFx4DvNXjEu",
        "outputId": "ddc3e058-a354-4ddc-aaae-a5f3b8b86d84"
      },
      "source": [
        "decoder = get_decoder_model()\n",
        "decoder.summary()"
      ],
      "execution_count": 23,
      "outputs": [
        {
          "output_type": "stream",
          "text": [
            "Model: \"decoder_model\"\n",
            "_________________________________________________________________\n",
            "Layer (type)                 Output Shape              Param #   \n",
            "=================================================================\n",
            "decoder_input (InputLayer)   [(None, 2)]               0         \n",
            "_________________________________________________________________\n",
            "decoder_dense_1 (Dense)      (None, 300)               900       \n",
            "_________________________________________________________________\n",
            "decoder_leakyrelu_1 (LeakyRe (None, 300)               0         \n",
            "_________________________________________________________________\n",
            "decoder_dense_2 (Dense)      (None, 784)               235984    \n",
            "_________________________________________________________________\n",
            "decoder_output (LeakyReLU)   (None, 784)               0         \n",
            "=================================================================\n",
            "Total params: 236,884\n",
            "Trainable params: 236,884\n",
            "Non-trainable params: 0\n",
            "_________________________________________________________________\n"
          ],
          "name": "stdout"
        }
      ]
    },
    {
      "cell_type": "markdown",
      "metadata": {
        "id": "hsECQnXfddJ7"
      },
      "source": [
        "## Build the Autoencoder"
      ]
    },
    {
      "cell_type": "code",
      "metadata": {
        "id": "YehDOPqwXRIu"
      },
      "source": [
        "def get_autoencoder_model():\n",
        "    ae_input = layers.Input(shape=(INPUT_SHAPE), name=\"AE_input\")\n",
        "    ae_encoder_output = encoder(ae_input)\n",
        "    ae_decoder_output = decoder(ae_encoder_output)   \n",
        "\n",
        "    ae_model = Model(ae_input, ae_decoder_output, name=\"AE\")\n",
        "    return ae_model "
      ],
      "execution_count": 24,
      "outputs": []
    },
    {
      "cell_type": "markdown",
      "metadata": {
        "id": "TIGGu4XxVzBh"
      },
      "source": [
        "## Summary of the Model"
      ]
    },
    {
      "cell_type": "code",
      "metadata": {
        "colab": {
          "base_uri": "https://localhost:8080/"
        },
        "id": "cWP4-0WqVRQS",
        "outputId": "a96db53b-323c-4d18-84b6-6041532aaabe"
      },
      "source": [
        "autoencoder_model = get_autoencoder_model()\n",
        "autoencoder_model.summary()"
      ],
      "execution_count": 25,
      "outputs": [
        {
          "output_type": "stream",
          "text": [
            "Model: \"AE\"\n",
            "_________________________________________________________________\n",
            "Layer (type)                 Output Shape              Param #   \n",
            "=================================================================\n",
            "AE_input (InputLayer)        [(None, 784)]             0         \n",
            "_________________________________________________________________\n",
            "encoder_model (Functional)   (None, 2)                 236102    \n",
            "_________________________________________________________________\n",
            "decoder_model (Functional)   (None, 784)               236884    \n",
            "=================================================================\n",
            "Total params: 472,986\n",
            "Trainable params: 472,986\n",
            "Non-trainable params: 0\n",
            "_________________________________________________________________\n"
          ],
          "name": "stdout"
        }
      ]
    },
    {
      "cell_type": "markdown",
      "metadata": {
        "id": "KYvPit7HVqIH"
      },
      "source": [
        "## Compile Model"
      ]
    },
    {
      "cell_type": "code",
      "metadata": {
        "id": "c46f-Dq8VYIB"
      },
      "source": [
        "autoencoder_model.compile(loss=\"mse\", optimizer=Adam(learning_rate=0.0005))"
      ],
      "execution_count": 26,
      "outputs": []
    },
    {
      "cell_type": "markdown",
      "metadata": {
        "id": "eQT4l50MV9YH"
      },
      "source": [
        "## Train Model"
      ]
    },
    {
      "cell_type": "code",
      "metadata": {
        "colab": {
          "base_uri": "https://localhost:8080/"
        },
        "id": "m7LSjINPVtJi",
        "outputId": "99d26e6a-d363-4931-b314-8d1dc99c3af8"
      },
      "source": [
        "autoencoder_model.fit(x_train, x_train, epochs=EPOCHS, batch_size=BATCH_SIZE, shuffle=True, validation_data=(x_test, x_test))"
      ],
      "execution_count": 27,
      "outputs": [
        {
          "output_type": "stream",
          "text": [
            "Epoch 1/50\n",
            "235/235 [==============================] - 1s 4ms/step - loss: 0.0601 - val_loss: 0.0551\n",
            "Epoch 2/50\n",
            "235/235 [==============================] - 1s 3ms/step - loss: 0.0543 - val_loss: 0.0532\n",
            "Epoch 3/50\n",
            "235/235 [==============================] - 1s 3ms/step - loss: 0.0527 - val_loss: 0.0519\n",
            "Epoch 4/50\n",
            "235/235 [==============================] - 1s 3ms/step - loss: 0.0516 - val_loss: 0.0511\n",
            "Epoch 5/50\n",
            "235/235 [==============================] - 1s 3ms/step - loss: 0.0509 - val_loss: 0.0505\n",
            "Epoch 6/50\n",
            "235/235 [==============================] - 1s 3ms/step - loss: 0.0503 - val_loss: 0.0499\n",
            "Epoch 7/50\n",
            "235/235 [==============================] - 1s 3ms/step - loss: 0.0496 - val_loss: 0.0492\n",
            "Epoch 8/50\n",
            "235/235 [==============================] - 1s 3ms/step - loss: 0.0489 - val_loss: 0.0488\n",
            "Epoch 9/50\n",
            "235/235 [==============================] - 1s 3ms/step - loss: 0.0483 - val_loss: 0.0483\n",
            "Epoch 10/50\n",
            "235/235 [==============================] - 1s 3ms/step - loss: 0.0478 - val_loss: 0.0478\n",
            "Epoch 11/50\n",
            "235/235 [==============================] - 1s 3ms/step - loss: 0.0473 - val_loss: 0.0473\n",
            "Epoch 12/50\n",
            "235/235 [==============================] - 1s 3ms/step - loss: 0.0469 - val_loss: 0.0468\n",
            "Epoch 13/50\n",
            "235/235 [==============================] - 1s 3ms/step - loss: 0.0466 - val_loss: 0.0466\n",
            "Epoch 14/50\n",
            "235/235 [==============================] - 1s 3ms/step - loss: 0.0462 - val_loss: 0.0462\n",
            "Epoch 15/50\n",
            "235/235 [==============================] - 1s 3ms/step - loss: 0.0459 - val_loss: 0.0459\n",
            "Epoch 16/50\n",
            "235/235 [==============================] - 1s 3ms/step - loss: 0.0457 - val_loss: 0.0457\n",
            "Epoch 17/50\n",
            "235/235 [==============================] - 1s 3ms/step - loss: 0.0455 - val_loss: 0.0455\n",
            "Epoch 18/50\n",
            "235/235 [==============================] - 1s 3ms/step - loss: 0.0453 - val_loss: 0.0455\n",
            "Epoch 19/50\n",
            "235/235 [==============================] - 1s 3ms/step - loss: 0.0451 - val_loss: 0.0451\n",
            "Epoch 20/50\n",
            "235/235 [==============================] - 1s 3ms/step - loss: 0.0449 - val_loss: 0.0451\n",
            "Epoch 21/50\n",
            "235/235 [==============================] - 1s 3ms/step - loss: 0.0447 - val_loss: 0.0449\n",
            "Epoch 22/50\n",
            "235/235 [==============================] - 1s 3ms/step - loss: 0.0446 - val_loss: 0.0447\n",
            "Epoch 23/50\n",
            "235/235 [==============================] - 1s 3ms/step - loss: 0.0444 - val_loss: 0.0446\n",
            "Epoch 24/50\n",
            "235/235 [==============================] - 1s 3ms/step - loss: 0.0443 - val_loss: 0.0445\n",
            "Epoch 25/50\n",
            "235/235 [==============================] - 1s 3ms/step - loss: 0.0442 - val_loss: 0.0444\n",
            "Epoch 26/50\n",
            "235/235 [==============================] - 1s 3ms/step - loss: 0.0441 - val_loss: 0.0443\n",
            "Epoch 27/50\n",
            "235/235 [==============================] - 1s 3ms/step - loss: 0.0439 - val_loss: 0.0441\n",
            "Epoch 28/50\n",
            "235/235 [==============================] - 1s 3ms/step - loss: 0.0438 - val_loss: 0.0439\n",
            "Epoch 29/50\n",
            "235/235 [==============================] - 1s 3ms/step - loss: 0.0437 - val_loss: 0.0438\n",
            "Epoch 30/50\n",
            "235/235 [==============================] - 1s 3ms/step - loss: 0.0436 - val_loss: 0.0438\n",
            "Epoch 31/50\n",
            "235/235 [==============================] - 1s 3ms/step - loss: 0.0435 - val_loss: 0.0437\n",
            "Epoch 32/50\n",
            "235/235 [==============================] - 1s 3ms/step - loss: 0.0434 - val_loss: 0.0437\n",
            "Epoch 33/50\n",
            "235/235 [==============================] - 1s 3ms/step - loss: 0.0432 - val_loss: 0.0435\n",
            "Epoch 34/50\n",
            "235/235 [==============================] - 1s 3ms/step - loss: 0.0432 - val_loss: 0.0434\n",
            "Epoch 35/50\n",
            "235/235 [==============================] - 1s 3ms/step - loss: 0.0431 - val_loss: 0.0435\n",
            "Epoch 36/50\n",
            "235/235 [==============================] - 1s 3ms/step - loss: 0.0430 - val_loss: 0.0433\n",
            "Epoch 37/50\n",
            "235/235 [==============================] - 1s 3ms/step - loss: 0.0429 - val_loss: 0.0431\n",
            "Epoch 38/50\n",
            "235/235 [==============================] - 1s 3ms/step - loss: 0.0428 - val_loss: 0.0432\n",
            "Epoch 39/50\n",
            "235/235 [==============================] - 1s 3ms/step - loss: 0.0427 - val_loss: 0.0430\n",
            "Epoch 40/50\n",
            "235/235 [==============================] - 1s 3ms/step - loss: 0.0427 - val_loss: 0.0431\n",
            "Epoch 41/50\n",
            "235/235 [==============================] - 1s 3ms/step - loss: 0.0426 - val_loss: 0.0431\n",
            "Epoch 42/50\n",
            "235/235 [==============================] - 1s 3ms/step - loss: 0.0425 - val_loss: 0.0429\n",
            "Epoch 43/50\n",
            "235/235 [==============================] - 1s 3ms/step - loss: 0.0425 - val_loss: 0.0430\n",
            "Epoch 44/50\n",
            "235/235 [==============================] - 1s 3ms/step - loss: 0.0424 - val_loss: 0.0429\n",
            "Epoch 45/50\n",
            "235/235 [==============================] - 1s 3ms/step - loss: 0.0423 - val_loss: 0.0428\n",
            "Epoch 46/50\n",
            "235/235 [==============================] - 1s 3ms/step - loss: 0.0422 - val_loss: 0.0426\n",
            "Epoch 47/50\n",
            "235/235 [==============================] - 1s 3ms/step - loss: 0.0422 - val_loss: 0.0427\n",
            "Epoch 48/50\n",
            "235/235 [==============================] - 1s 3ms/step - loss: 0.0421 - val_loss: 0.0428\n",
            "Epoch 49/50\n",
            "235/235 [==============================] - 1s 3ms/step - loss: 0.0421 - val_loss: 0.0425\n",
            "Epoch 50/50\n",
            "235/235 [==============================] - 1s 3ms/step - loss: 0.0420 - val_loss: 0.0425\n"
          ],
          "name": "stdout"
        },
        {
          "output_type": "execute_result",
          "data": {
            "text/plain": [
              "<tensorflow.python.keras.callbacks.History at 0x7f82c0202390>"
            ]
          },
          "metadata": {
            "tags": []
          },
          "execution_count": 27
        }
      ]
    },
    {
      "cell_type": "markdown",
      "metadata": {
        "id": "1WWK9cjZX9A3"
      },
      "source": [
        "## Making Predictions"
      ]
    },
    {
      "cell_type": "code",
      "metadata": {
        "id": "p76rrhPHX63w"
      },
      "source": [
        "encoded_images = encoder.predict(x_train)\n",
        "decoded_images = decoder.predict(encoded_images)"
      ],
      "execution_count": 28,
      "outputs": []
    },
    {
      "cell_type": "code",
      "metadata": {
        "id": "pr9bVj2LZFlQ"
      },
      "source": [
        "decoded_images_orig = np.reshape(decoded_images, newshape=(decoded_images.shape[0], 28, 28))"
      ],
      "execution_count": 29,
      "outputs": []
    },
    {
      "cell_type": "markdown",
      "metadata": {
        "id": "MYuVFomRcFDa"
      },
      "source": [
        "## View generated samples"
      ]
    },
    {
      "cell_type": "code",
      "metadata": {
        "colab": {
          "base_uri": "https://localhost:8080/",
          "height": 652
        },
        "id": "Qxw_UexUZJRB",
        "outputId": "448b6776-092f-45a8-b525-0b1acbe73639"
      },
      "source": [
        "num_images_to_show = 5\n",
        "\n",
        "for im_ind in range(num_images_to_show):\n",
        "    plt.figure(figsize=(10, 10))\n",
        "    plot_ind = im_ind*2 + 1\n",
        "    rand_ind = np.random.randint(low=0, high=x_train.shape[0])\n",
        "    plt.subplot(num_images_to_show, 2, plot_ind)\n",
        "    plt.imshow(x_train_orig[rand_ind, :, :], cmap=\"gray\")\n",
        "    plt.subplot(num_images_to_show, 2, plot_ind+1)\n",
        "    plt.imshow(decoded_images_orig[rand_ind, :, :], cmap=\"gray\")"
      ],
      "execution_count": 31,
      "outputs": [
        {
          "output_type": "display_data",
          "data": {
            "image/png": "[encoded data removed]",
            "text/plain": [
              "<Figure size 720x720 with 2 Axes>"
            ]
          },
          "metadata": {
            "tags": [],
            "needs_background": "light"
          }
        },
        {
          "output_type": "display_data",
          "data": {
            "image/png": "[encoded data removed]",
            "text/plain": [
              "<Figure size 720x720 with 2 Axes>"
            ]
          },
          "metadata": {
            "tags": [],
            "needs_background": "light"
          }
        },
        {
          "output_type": "display_data",
          "data": {
            "image/png": "[encoded data removed]",
            "text/plain": [
              "<Figure size 720x720 with 2 Axes>"
            ]
          },
          "metadata": {
            "tags": [],
            "needs_background": "light"
          }
        },
        {
          "output_type": "display_data",
          "data": {
            "image/png": "[encoded data removed]",
            "text/plain": [
              "<Figure size 720x720 with 2 Axes>"
            ]
          },
          "metadata": {
            "tags": [],
            "needs_background": "light"
          }
        },
        {
          "output_type": "display_data",
          "data": {
            "image/png": "[encoded data removed]",
            "text/plain": [
              "<Figure size 720x720 with 2 Axes>"
            ]
          },
          "metadata": {
            "tags": [],
            "needs_background": "light"
          }
        }
      ]
    }
  ]
}